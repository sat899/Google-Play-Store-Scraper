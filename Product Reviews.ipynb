{
 "cells": [
  {
   "cell_type": "code",
   "execution_count": 1,
   "id": "77965b1d",
   "metadata": {},
   "outputs": [],
   "source": [
    "# Import packages\n",
    "import pandas as pd\n",
    "import numpy as np\n",
    "from google_play_scraper import Sort, reviews_all"
   ]
  },
  {
   "cell_type": "code",
   "execution_count": 2,
   "id": "a79853ad",
   "metadata": {},
   "outputs": [],
   "source": [
    "# Get all reviews\n",
    "us_reviews = reviews_all(\n",
    "    'com.google.android.apps.fitness',\n",
    "    sleep_milliseconds=0,  # defaults to 0\n",
    "    lang='en',  # defaults to 'en'\n",
    "    country='us',  # defaults to 'us'\n",
    "    sort=Sort.NEWEST,  # defaults to Sort.MOST_RELEVANT\n",
    ")"
   ]
  },
  {
   "cell_type": "code",
   "execution_count": 3,
   "id": "3ba617c2",
   "metadata": {
    "scrolled": true
   },
   "outputs": [
    {
     "name": "stdout",
     "output_type": "stream",
     "text": [
      "<class 'pandas.core.frame.DataFrame'>\n",
      "RangeIndex: 66291 entries, 0 to 66290\n",
      "Data columns (total 10 columns):\n",
      " #   Column                Non-Null Count  Dtype         \n",
      "---  ------                --------------  -----         \n",
      " 0   reviewId              66291 non-null  object        \n",
      " 1   userName              66291 non-null  object        \n",
      " 2   userImage             66291 non-null  object        \n",
      " 3   content               66272 non-null  object        \n",
      " 4   score                 66291 non-null  int64         \n",
      " 5   thumbsUpCount         66291 non-null  int64         \n",
      " 6   reviewCreatedVersion  55902 non-null  object        \n",
      " 7   at                    66291 non-null  datetime64[ns]\n",
      " 8   replyContent          13769 non-null  object        \n",
      " 9   repliedAt             13769 non-null  datetime64[ns]\n",
      "dtypes: datetime64[ns](2), int64(2), object(6)\n",
      "memory usage: 5.1+ MB\n"
     ]
    }
   ],
   "source": [
    "# Convert to Pandas DF\n",
    "df = pd.DataFrame(np.array(us_reviews), columns=['review'])\n",
    "df = df.join(pd.DataFrame(df.pop('review').tolist()))\n",
    "df.info()"
   ]
  },
  {
   "cell_type": "code",
   "execution_count": 4,
   "id": "6c8f9fdc",
   "metadata": {},
   "outputs": [
    {
     "data": {
      "text/plain": [
       "1    20914\n",
       "5    16729\n",
       "2    10538\n",
       "3     9915\n",
       "4     8071\n",
       "Name: score, dtype: int64"
      ]
     },
     "execution_count": 4,
     "metadata": {},
     "output_type": "execute_result"
    }
   ],
   "source": [
    "# Check distribution of scores across full set of reviews\n",
    "df.score.value_counts()"
   ]
  },
  {
   "cell_type": "code",
   "execution_count": 4,
   "id": "58870b69",
   "metadata": {},
   "outputs": [],
   "source": [
    "# Select only reviews that contain the words or phrases \"interface\", \"user experience\", \"UX\" or \"UI\"\n",
    "df_subset = df[df['content'].str.contains(\"interface|user experience|UX|UI\") == True]"
   ]
  },
  {
   "cell_type": "code",
   "execution_count": 5,
   "id": "ed0d57e1",
   "metadata": {},
   "outputs": [
    {
     "name": "stdout",
     "output_type": "stream",
     "text": [
      "<class 'pandas.core.frame.DataFrame'>\n",
      "Int64Index: 1383 entries, 89 to 65949\n",
      "Data columns (total 10 columns):\n",
      " #   Column                Non-Null Count  Dtype         \n",
      "---  ------                --------------  -----         \n",
      " 0   reviewId              1383 non-null   object        \n",
      " 1   userName              1383 non-null   object        \n",
      " 2   userImage             1383 non-null   object        \n",
      " 3   content               1383 non-null   object        \n",
      " 4   score                 1383 non-null   int64         \n",
      " 5   thumbsUpCount         1383 non-null   int64         \n",
      " 6   reviewCreatedVersion  1267 non-null   object        \n",
      " 7   at                    1383 non-null   datetime64[ns]\n",
      " 8   replyContent          194 non-null    object        \n",
      " 9   repliedAt             194 non-null    datetime64[ns]\n",
      "dtypes: datetime64[ns](2), int64(2), object(6)\n",
      "memory usage: 118.9+ KB\n"
     ]
    }
   ],
   "source": [
    "df_subset.info()"
   ]
  },
  {
   "cell_type": "code",
   "execution_count": 10,
   "id": "b5c3d39e",
   "metadata": {},
   "outputs": [
    {
     "name": "stderr",
     "output_type": "stream",
     "text": [
      "<ipython-input-10-136482be92fa>:1: SettingWithCopyWarning: \n",
      "A value is trying to be set on a copy of a slice from a DataFrame.\n",
      "Try using .loc[row_indexer,col_indexer] = value instead\n",
      "\n",
      "See the caveats in the documentation: https://pandas.pydata.org/pandas-docs/stable/user_guide/indexing.html#returning-a-view-versus-a-copy\n",
      "  df_subset['year'] = pd.DatetimeIndex(df_subset['at']).year\n"
     ]
    }
   ],
   "source": [
    "#Extract year of review into new variable\n",
    "df_subset['year'] = pd.DatetimeIndex(df_subset['at']).year"
   ]
  },
  {
   "cell_type": "code",
   "execution_count": 19,
   "id": "fa243e05",
   "metadata": {},
   "outputs": [],
   "source": [
    "#Filter to only reviews from the last year\n",
    "df_subset_recent = df_subset[df_subset['year'] == 2021]"
   ]
  },
  {
   "cell_type": "code",
   "execution_count": 20,
   "id": "bd0bd827",
   "metadata": {},
   "outputs": [
    {
     "name": "stdout",
     "output_type": "stream",
     "text": [
      "<class 'pandas.core.frame.DataFrame'>\n",
      "Int64Index: 106 entries, 89 to 11251\n",
      "Data columns (total 11 columns):\n",
      " #   Column                Non-Null Count  Dtype         \n",
      "---  ------                --------------  -----         \n",
      " 0   reviewId              106 non-null    object        \n",
      " 1   userName              106 non-null    object        \n",
      " 2   userImage             106 non-null    object        \n",
      " 3   content               106 non-null    object        \n",
      " 4   score                 106 non-null    int64         \n",
      " 5   thumbsUpCount         106 non-null    int64         \n",
      " 6   reviewCreatedVersion  100 non-null    object        \n",
      " 7   at                    106 non-null    datetime64[ns]\n",
      " 8   replyContent          39 non-null     object        \n",
      " 9   repliedAt             39 non-null     datetime64[ns]\n",
      " 10  year                  106 non-null    int64         \n",
      "dtypes: datetime64[ns](2), int64(3), object(6)\n",
      "memory usage: 9.9+ KB\n"
     ]
    }
   ],
   "source": [
    "df_subset_recent.info()"
   ]
  },
  {
   "cell_type": "code",
   "execution_count": null,
   "id": "811f52d2",
   "metadata": {},
   "outputs": [],
   "source": []
  }
 ],
 "metadata": {
  "kernelspec": {
   "display_name": "Python 3",
   "language": "python",
   "name": "python3"
  },
  "language_info": {
   "codemirror_mode": {
    "name": "ipython",
    "version": 3
   },
   "file_extension": ".py",
   "mimetype": "text/x-python",
   "name": "python",
   "nbconvert_exporter": "python",
   "pygments_lexer": "ipython3",
   "version": "3.8.8"
  }
 },
 "nbformat": 4,
 "nbformat_minor": 5
}